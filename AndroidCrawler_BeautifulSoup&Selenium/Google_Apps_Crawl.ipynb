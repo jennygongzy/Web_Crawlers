{
 "cells": [
  {
   "cell_type": "markdown",
   "metadata": {},
   "source": [
    "Issues: \n",
    "1. scroll down- selenium (ok) "
   ]
  },
  {
   "cell_type": "code",
   "execution_count": 1,
   "metadata": {
    "collapsed": true
   },
   "outputs": [],
   "source": [
    "import requests\n",
    "from bs4 import BeautifulSoup\n",
    "import re\n",
    "\n",
    "url = 'https://play.google.com/store/apps/category/GAME/collection/topselling_free?hl=en'\n",
    "req = requests.get(url)\n",
    "soup = BeautifulSoup(req.text,'html.parser')"
   ]
  },
  {
   "cell_type": "code",
   "execution_count": 2,
   "metadata": {
    "collapsed": true
   },
   "outputs": [],
   "source": [
    "#find all the app links \n",
    "appurls = [tag['href'] for tag in soup.find_all('a',class_='title') if tag.get('href').startswith('/store/apps/details?')]"
   ]
  },
  {
   "cell_type": "code",
   "execution_count": 3,
   "metadata": {
    "collapsed": false,
    "scrolled": true
   },
   "outputs": [
    {
     "data": {
      "text/plain": [
       "[u'/store/apps/details?id=com.miniclip.eightballpool',\n",
       " u'/store/apps/details?id=com.bitmango.go.wordcookies',\n",
       " u'/store/apps/details?id=com.withbuddies.diceellen',\n",
       " u'/store/apps/details?id=com.kiloo.subwaysurf',\n",
       " u'/store/apps/details?id=com.turbochilli.rollingsky',\n",
       " u'/store/apps/details?id=com.fortafygames.colorswitch',\n",
       " u'/store/apps/details?id=com.king.bubblewitch3',\n",
       " u'/store/apps/details?id=com.scopely.wheeloffortune',\n",
       " u'/store/apps/details?id=air.com.hypah.io.slither',\n",
       " u'/store/apps/details?id=com.secondarm.taptapdash',\n",
       " u'/store/apps/details?id=io.voodoo.paperio',\n",
       " u'/store/apps/details?id=com.kathleenOswald.solitaireGooglePlay',\n",
       " u'/store/apps/details?id=com.roblox.client',\n",
       " u'/store/apps/details?id=com.cmplay.tiles2',\n",
       " u'/store/apps/details?id=com.epicwaronline.ms',\n",
       " u'/store/apps/details?id=com.bitmango.rolltheballunrollme',\n",
       " u'/store/apps/details?id=jp.pokemon.pokemoncomaster',\n",
       " u'/store/apps/details?id=com.supercell.clashroyale',\n",
       " u'/store/apps/details?id=com.nianticlabs.pokemongo',\n",
       " u'/store/apps/details?id=com.bitmango.go.blockhexapuzzle',\n",
       " u'/store/apps/details?id=com.fingersoft.hcr2',\n",
       " u'/store/apps/details?id=com.namcobandaigames.pacmantournaments',\n",
       " u'/store/apps/details?id=com.halfbrick.fruitninjafree',\n",
       " u'/store/apps/details?id=com.robtopx.geometrydashworld',\n",
       " u'/store/apps/details?id=net.peakgames.amy',\n",
       " u'/store/apps/details?id=com.outfit7.mytalkingtomfree',\n",
       " u'/store/apps/details?id=com.cyberpony.stickman.warriors.epic',\n",
       " u'/store/apps/details?id=com.king.candycrushsaga',\n",
       " u'/store/apps/details?id=com.fgol.HungrySharkEvolution',\n",
       " u'/store/apps/details?id=com.robtopx.geometryjumplite',\n",
       " u'/store/apps/details?id=com.imangi.templerun2',\n",
       " u'/store/apps/details?id=com.pixelberrystudios.choices',\n",
       " u'/store/apps/details?id=com.ubisoft.rabbidsrunner',\n",
       " u'/store/apps/details?id=com.ea.gp.nbamobile',\n",
       " u'/store/apps/details?id=com.topfreegames.bikeracefreeworld',\n",
       " u'/store/apps/details?id=com.nordcurrent.canteenhd',\n",
       " u'/store/apps/details?id=com.outfit7.mytalkinghank',\n",
       " u'/store/apps/details?id=com.supercell.clashofclans',\n",
       " u'/store/apps/details?id=com.sega.sonicdash',\n",
       " u'/store/apps/details?id=com.imangi.templerun',\n",
       " u'/store/apps/details?id=com.feelingtouch.zf3d',\n",
       " u'/store/apps/details?id=com.bigduckgames.flow',\n",
       " u'/store/apps/details?id=com.outfit7.mytalkingangelafree',\n",
       " u'/store/apps/details?id=jp.konami.duellinks',\n",
       " u'/store/apps/details?id=com.episodeinteractive.android.catalog',\n",
       " u'/store/apps/details?id=com.productmadness.cashmancasino',\n",
       " u'/store/apps/details?id=com.fungames.sniper3d',\n",
       " u'/store/apps/details?id=com.pjmasks.moonlightheroes',\n",
       " u'/store/apps/details?id=com.machinezone.gow',\n",
       " u'/store/apps/details?id=com.nordcurrent.sniperarena',\n",
       " u'/store/apps/details?id=com.halfbrick.jetpackjoyride',\n",
       " u'/store/apps/details?id=com.cocoplay.cocohiphop',\n",
       " u'/store/apps/details?id=com.playdemic.golf.android',\n",
       " u'/store/apps/details?id=com.miniclip.basketballstars',\n",
       " u'/store/apps/details?id=com.hutchgames.hotwheels',\n",
       " u'/store/apps/details?id=com.rovio.baba',\n",
       " u'/store/apps/details?id=com.crowdstar.covetHome',\n",
       " u'/store/apps/details?id=com.ea.game.maddenmobile15_row',\n",
       " u'/store/apps/details?id=com.ea.games.simsfreeplay_na',\n",
       " u'/store/apps/details?id=com.pnixgames.bowlingking']"
      ]
     },
     "execution_count": 3,
     "metadata": {},
     "output_type": "execute_result"
    }
   ],
   "source": [
    "appurls"
   ]
  },
  {
   "cell_type": "code",
   "execution_count": null,
   "metadata": {
    "collapsed": true
   },
   "outputs": [],
   "source": [
    "#go inside the appurl \n",
    "for purl in appurls: \n",
    "    preq=requests.get(purl)\n",
    "    psoup=BeautifulSoup(preq.text,'html.parser')\n",
    "    #do everything "
   ]
  },
  {
   "cell_type": "code",
   "execution_count": 4,
   "metadata": {
    "collapsed": true
   },
   "outputs": [],
   "source": [
    "#try a single page \n",
    "surl='https://play.google.com/store/apps/details?id=com.gamecircus.tycoon&hl=en'\n",
    "sreq=requests.get(surl)\n",
    "ssoup=BeautifulSoup(sreq.text,'html.parser')"
   ]
  },
  {
   "cell_type": "code",
   "execution_count": 5,
   "metadata": {
    "collapsed": false
   },
   "outputs": [],
   "source": [
    "name = ssoup.find('div',class_='id-app-title').get_text()"
   ]
  },
  {
   "cell_type": "code",
   "execution_count": 19,
   "metadata": {
    "collapsed": false
   },
   "outputs": [
    {
     "data": {
      "text/plain": [
       "u'4.4'"
      ]
     },
     "execution_count": 19,
     "metadata": {},
     "output_type": "execute_result"
    }
   ],
   "source": [
    "review = ssoup.find('div',class_='score').get_text()\n",
    "review"
   ]
  },
  {
   "cell_type": "code",
   "execution_count": 7,
   "metadata": {
    "collapsed": false
   },
   "outputs": [
    {
     "data": {
      "text/plain": [
       "u'81,458'"
      ]
     },
     "execution_count": 7,
     "metadata": {},
     "output_type": "execute_result"
    }
   ],
   "source": [
    "review_num = ssoup.find('span',class_='reviews-num').get_text()\n",
    "review_num"
   ]
  },
  {
   "cell_type": "code",
   "execution_count": 8,
   "metadata": {
    "collapsed": false
   },
   "outputs": [
    {
     "data": {
      "text/plain": [
       "u'February 17, 2017'"
      ]
     },
     "execution_count": 8,
     "metadata": {},
     "output_type": "execute_result"
    }
   ],
   "source": [
    "date_published = ssoup.find('div',class_='content',itemprop='datePublished').get_text()\n",
    "date_published"
   ]
  },
  {
   "cell_type": "code",
   "execution_count": 9,
   "metadata": {
    "collapsed": false
   },
   "outputs": [
    {
     "data": {
      "text/plain": [
       "u' 1.9  '"
      ]
     },
     "execution_count": 9,
     "metadata": {},
     "output_type": "execute_result"
    }
   ],
   "source": [
    "curent_version = ssoup.find('div',itemprop='softwareVersion').get_text()\n",
    "curent_version"
   ]
  },
  {
   "cell_type": "code",
   "execution_count": 11,
   "metadata": {
    "collapsed": false
   },
   "outputs": [
    {
     "data": {
      "text/plain": [
       "u'Game Circus LLC'"
      ]
     },
     "execution_count": 11,
     "metadata": {},
     "output_type": "execute_result"
    }
   ],
   "source": [
    "seller = ssoup.find(string=re.compile('Offered By')).find_previous('div').find_next_sibling('div').get_text()\n",
    "seller"
   ]
  },
  {
   "cell_type": "code",
   "execution_count": 21,
   "metadata": {
    "collapsed": false
   },
   "outputs": [
    {
     "data": {
      "text/plain": [
       "[<h1 class=\"heading\" tabindex=\"0\"> Description </h1>,\n",
       " <h1 class=\"heading\"> Reviews </h1>,\n",
       " <h1 class=\"heading\"> What's New </h1>,\n",
       " <h1 class=\"heading\"> Additional information </h1>,\n",
       " <h1 class=\"heading\"> <a class=\"title-link id-track-click\" data-server-cookie=\"CAMiJQgCEAMaHRIbChVjb20uZ2FtZWNpcmN1cy50eWNvb24QARgDKAE=\" data-uitype=\"291\" href=\"/store/apps/collection/similar_apps_com.gamecircus.tycoon?clp=qgEdChsKFWNvbS5nYW1lY2lyY3VzLnR5Y29vbhABGAM%3D:S:ANO1ljIg06U\">Similar</a> </h1>,\n",
       " <h1 class=\"heading\" id=\"cluster-celebrity-box-heading-developer-5517637428189447271\">Game Circus LLC</h1>]"
      ]
     },
     "execution_count": 21,
     "metadata": {},
     "output_type": "execute_result"
    }
   ],
   "source": [
    "ssoup.find_all('h1',class_=\"heading\")"
   ]
  },
  {
   "cell_type": "markdown",
   "metadata": {},
   "source": [
    "### update 03.05.2017 \n",
    "grab the see-more-links"
   ]
  },
  {
   "cell_type": "code",
   "execution_count": 18,
   "metadata": {
    "collapsed": true
   },
   "outputs": [],
   "source": [
    "regex = re.compile('.*see-more.*')\n",
    "for tag in ssoup.find_all(\"a\", {\"class\" : regex}):\n",
    "    print tag"
   ]
  },
  {
   "cell_type": "code",
   "execution_count": 27,
   "metadata": {
    "collapsed": false
   },
   "outputs": [
    {
     "ename": "AttributeError",
     "evalue": "'ResultSet' object has no attribute 'find_previous'",
     "output_type": "error",
     "traceback": [
      "\u001b[0;31m---------------------------------------------------------------------------\u001b[0m",
      "\u001b[0;31mAttributeError\u001b[0m                            Traceback (most recent call last)",
      "\u001b[0;32m<ipython-input-27-8ce79597e48d>\u001b[0m in \u001b[0;36m<module>\u001b[0;34m()\u001b[0m\n\u001b[0;32m----> 1\u001b[0;31m \u001b[0mseemoreurl\u001b[0m \u001b[0;34m=\u001b[0m \u001b[0mssoup\u001b[0m\u001b[0;34m.\u001b[0m\u001b[0mfind_all\u001b[0m\u001b[0;34m(\u001b[0m\u001b[0mstring\u001b[0m\u001b[0;34m=\u001b[0m\u001b[0mre\u001b[0m\u001b[0;34m.\u001b[0m\u001b[0mcompile\u001b[0m\u001b[0;34m(\u001b[0m\u001b[0;34m'See more'\u001b[0m\u001b[0;34m)\u001b[0m\u001b[0;34m)\u001b[0m\u001b[0;34m.\u001b[0m\u001b[0mfind_previous\u001b[0m\u001b[0;34m(\u001b[0m\u001b[0;34m'a'\u001b[0m\u001b[0;34m)\u001b[0m\u001b[0;34m\u001b[0m\u001b[0m\n\u001b[0m\u001b[1;32m      2\u001b[0m \u001b[0mseemoreurl\u001b[0m\u001b[0;34m\u001b[0m\u001b[0m\n",
      "\u001b[0;31mAttributeError\u001b[0m: 'ResultSet' object has no attribute 'find_previous'"
     ]
    }
   ],
   "source": [
    "seemoreurl = ssoup.find_all(string=re.compile('See more')).find_previous('a')\n",
    "seemoreurl"
   ]
  },
  {
   "cell_type": "code",
   "execution_count": 23,
   "metadata": {
    "collapsed": false
   },
   "outputs": [
    {
     "data": {
      "text/plain": [
       "[]"
      ]
     },
     "execution_count": 23,
     "metadata": {},
     "output_type": "execute_result"
    }
   ],
   "source": [
    "seemoreurl=[tag['href'] for tag in ssoup.find_all(\"a\", {\"class\" :'see-more play-button small id-track-click apps'})]\n",
    "seemoreurl"
   ]
  },
  {
   "cell_type": "code",
   "execution_count": 17,
   "metadata": {
    "collapsed": false
   },
   "outputs": [
    {
     "data": {
      "text/plain": [
       "[]"
      ]
     },
     "execution_count": 17,
     "metadata": {},
     "output_type": "execute_result"
    }
   ],
   "source": [
    "regex = re.compile('.*see-more.*')\n",
    "seemoreurl=[tag['href'] for tag in ssoup.find_all(\"a\", {\"class\" : regex})]\n",
    "seemoreurl"
   ]
  },
  {
   "cell_type": "code",
   "execution_count": 16,
   "metadata": {
    "collapsed": false
   },
   "outputs": [
    {
     "data": {
      "text/plain": [
       "[]"
      ]
     },
     "execution_count": 16,
     "metadata": {},
     "output_type": "execute_result"
    }
   ],
   "source": [
    "seemoreurl=[tag['href'] for tag in ssoup.select('a[class*=\"see-more\"]')]\n",
    "seemoreurl"
   ]
  },
  {
   "cell_type": "code",
   "execution_count": 29,
   "metadata": {
    "collapsed": true
   },
   "outputs": [],
   "source": [
    "#description function 1\n",
    "def description(soup):\n",
    "    deslist=[]\n",
    "    tag=soup.find('div',jsname='C4s9Ed')\n",
    "    deslist.append(tag.get_text())\n",
    "    for item in tag.find_all('p'):\n",
    "        deslist.append(item.get_text())\n",
    "    desstr=' '.join(deslist) \n",
    "    return desstr"
   ]
  },
  {
   "cell_type": "code",
   "execution_count": 33,
   "metadata": {
    "collapsed": false
   },
   "outputs": [],
   "source": [
    "#description function 2\n",
    "def description(soup):\n",
    "    deslist=[]\n",
    "    tag=soup.find('div',jsname='C4s9Ed')\n",
    "    deslist.append(tag.get_text())\n",
    "    for item in tag.find_all('p'):\n",
    "        try: \n",
    "            for i in item.contents: \n",
    "                deslist.append(item.contents[i].get_text())\n",
    "        except: \n",
    "            deslist.append(item.get_text())\n",
    "    desstr=' '.join(deslist) \n",
    "    return desstr"
   ]
  },
  {
   "cell_type": "code",
   "execution_count": 47,
   "metadata": {
    "collapsed": true
   },
   "outputs": [],
   "source": [
    "#try a different page \n",
    "surl='https://play.google.com/store/apps/details?id=com.onehundredpics.onehundredpicsquiz'\n",
    "sreq=requests.get(surl)\n",
    "ssoup=BeautifulSoup(sreq.text,'html.parser')"
   ]
  },
  {
   "cell_type": "code",
   "execution_count": 51,
   "metadata": {
    "collapsed": false
   },
   "outputs": [
    {
     "data": {
      "text/plain": [
       "38960"
      ]
     },
     "execution_count": 51,
     "metadata": {},
     "output_type": "execute_result"
    }
   ],
   "source": [
    "len(description(ssoup))"
   ]
  },
  {
   "cell_type": "code",
   "execution_count": null,
   "metadata": {
    "collapsed": false
   },
   "outputs": [],
   "source": [
    "#selenium webdriver on Firefox to scroll down\n",
    "from selenium import webdriver \n",
    "\n",
    "driver = webdriver.Firefox()\n",
    "driver.get(url)\n",
    "driver.execute_script(\"window.scrollTo(0, document.body.scrollHeight);\")\n",
    "time.sleep(3)\n",
    "driver.execute_script(\"window.scrollTo(0, document.body.scrollHeight);\")\n",
    "time.sleep(3)\n",
    "driver.execute_script(\"window.scrollTo(0, document.body.scrollHeight);\")\n",
    "time.sleep(3)\n",
    "wholepage = driver.page_source \n",
    "\n",
    "# doesn't work for Firefox, maybe the FF version and the Selenium version \n",
    "# doesn't consist. Need to test one-by-one to make them consist"
   ]
  },
  {
   "cell_type": "code",
   "execution_count": 41,
   "metadata": {
    "collapsed": false
   },
   "outputs": [
    {
     "name": "stderr",
     "output_type": "stream",
     "text": [
      "Exception AttributeError: \"'Service' object has no attribute 'process'\" in <bound method Service.__del__ of <selenium.webdriver.chrome.service.Service object at 0x107dde790>> ignored\n",
      "Exception AttributeError: \"'Service' object has no attribute 'process'\" in <bound method Service.__del__ of <selenium.webdriver.chrome.service.Service object at 0x108a99090>> ignored\n"
     ]
    }
   ],
   "source": [
    "#selenium webdriver on Chrome \n",
    "from selenium import webdriver \n",
    "import time\n",
    "driver = webdriver.Chrome('/Users/gongzeyang/Downloads/chromedriver')\n",
    "driver.get(url)\n",
    "driver.execute_script(\"window.scrollTo(0, document.body.scrollHeight);\")\n",
    "time.sleep(3)\n",
    "driver.execute_script(\"window.scrollTo(0, document.body.scrollHeight);\")\n",
    "time.sleep(3)\n",
    "driver.execute_script(\"window.scrollTo(0, document.body.scrollHeight);\")\n",
    "time.sleep(3)\n",
    "wholepage = driver.page_source "
   ]
  },
  {
   "cell_type": "code",
   "execution_count": 45,
   "metadata": {
    "collapsed": false
   },
   "outputs": [],
   "source": [
    "wholesoup =BeautifulSoup(wholepage,'html.parser')"
   ]
  },
  {
   "cell_type": "code",
   "execution_count": 46,
   "metadata": {
    "collapsed": false
   },
   "outputs": [
    {
     "data": {
      "text/plain": [
       "bs4.BeautifulSoup"
      ]
     },
     "execution_count": 46,
     "metadata": {},
     "output_type": "execute_result"
    }
   ],
   "source": [
    "type(wholesoup)"
   ]
  },
  {
   "cell_type": "markdown",
   "metadata": {
    "collapsed": true
   },
   "source": [
    "## 11.20 Update, consist with Mengchuan's itunes data"
   ]
  },
  {
   "cell_type": "markdown",
   "metadata": {},
   "source": [
    "Columns in Mengchuan's itunes data:\n",
    "\n",
    "Name,Description,\tVersion,\t#Review_title(ok),\t#Review_content(ok),\t#Age,\t#Age_reason,\t#Icon_url,\tRating_times,\tRating_value,\tDevelop_company\t"
   ]
  },
  {
   "cell_type": "code",
   "execution_count": 35,
   "metadata": {
    "collapsed": false
   },
   "outputs": [],
   "source": [
    "#try a single page \n",
    "surl='https://play.google.com/store/apps/details?id=com.gamecircus.tycoon&hl=en'\n",
    "sreq=requests.get(surl)\n",
    "ssoup=BeautifulSoup(sreq.text,'html.parser')"
   ]
  },
  {
   "cell_type": "code",
   "execution_count": 21,
   "metadata": {
    "collapsed": false
   },
   "outputs": [],
   "source": [
    "#try a single page (has content rating reason)\n",
    "surl='https://play.google.com/store/apps/details?id=com.epicwaronline.ms&hl=en'\n",
    "sreq=requests.get(surl)\n",
    "ssoup=BeautifulSoup(sreq.text,'html.parser')"
   ]
  },
  {
   "cell_type": "code",
   "execution_count": 17,
   "metadata": {
    "collapsed": false
   },
   "outputs": [],
   "source": [
    "#Review title, review content \n",
    "review_title_list=[tag.find(class_='review-title').get_text() for tag in ssoup.find_all('div',class_='review-text')]\n",
    "review_title = ';'.join(review_title_list)\n",
    "review_content_list=[tag.get_text() for tag in ssoup.find_all('div',class_='review-text')]\n",
    "review_content = ';'.join(review_content_list)\n"
   ]
  },
  {
   "cell_type": "code",
   "execution_count": 18,
   "metadata": {
    "collapsed": false
   },
   "outputs": [
    {
     "name": "stdout",
     "output_type": "stream",
     "text": [
      " Super fun! The only thing I would like to see added, is a 'favorite' system for Advisors. I have two permanent guys, but my third slot I swap based on whether I'm tapping or collecting passive income. As my list of advisors gets longer, it gets difficult to find the one I need. A way to keep favorites at the top of the list would be great.  ; ❤❤💰💲💵💴💶💷💱 Great app. I only got it half an hour ago so I can't be too detailed but it does remind of cookie clicker but even better because you get to do something and I love the fact you can leave it over night and still get money. I havent come across any demands for real life money and you have the option to but again don't have to and can still get by without spending. Overall I love it and it's a great time saver! It's a day later for me and I have had a lot of alerts saying I have to connect to facebook.  ; No Reponse from Devs Managed to email dev's a few days back, but no response. I'm lucky if I can get to play as the game gets stuck in a endless cycle of repeating ads which fail to load and cause the game to reload every 5-10 seconds. Sometimes it works, sometimes it doesn't. Would appreciate a response.  Please don't ask me to email through game as I can rarely get on for long enough without it entering this cycle.  ; Pretty fun Took me no time at all to be making zillions of dollars. Plenty of fun to be had. The gems for watching videos isn't too bad and worth suffering through. Also some of the download and open this app once to earn a ton is well worth it also. Just download and open the app. Get your reward and delete the app. Lol  ; Good!! This game is amazing!! Love it! So addicting  and you don't need Internet,  so you can play while travelling - which is another good thing that you need to do,  if you want a lot of downloads (from other people downloading your app.) It's also very simple and fun, would recommend getting!  ; Needs more Games Fun I enjoy it but I keep getting notifications every minute or two saying boss you forgot to buy the next house but there's no more houses to buy and in the achievements it says buy 64 businesses I bought 33 which is all that's in the game. Unless I'm missing something tycoon island is the last level and dust Valley is the first. Wish they would update the game soon.  \n",
      "Super fun!;❤❤💰💲💵💴💶💷💱;No Reponse from Devs;Pretty fun;Good!!;Needs more\n"
     ]
    }
   ],
   "source": [
    "print review_content\n",
    "print review_title"
   ]
  },
  {
   "cell_type": "code",
   "execution_count": 27,
   "metadata": {
    "collapsed": true
   },
   "outputs": [],
   "source": [
    "#Content Rating, Content rating reason \n",
    "\n",
    "content_rating = ssoup.find(class_='content',itemprop='contentRating').get_text()\n",
    "try:\n",
    "    content_rating_reason = ssoup.find(class_='content',itemprop='contentRating').next_sibling.next_sibling.get_text()\n",
    "except:\n",
    "    content_rating_reason = 'NA'"
   ]
  },
  {
   "cell_type": "code",
   "execution_count": 36,
   "metadata": {
    "collapsed": true
   },
   "outputs": [],
   "source": [
    "#content rating reason v2\n",
    "if ssoup.find(class_='content',itemprop='contentRating').next_sibling.next_sibling.get_text()=='Learn more':\n",
    "    content_rating_reason ='NA'\n",
    "else:\n",
    "    content_rating_reason = ssoup.find(class_='content',itemprop='contentRating').next_sibling.next_sibling.get_text()\n",
    "    \n"
   ]
  },
  {
   "cell_type": "code",
   "execution_count": 37,
   "metadata": {
    "collapsed": false
   },
   "outputs": [
    {
     "name": "stdout",
     "output_type": "stream",
     "text": [
      "Everyone 10+\n",
      "NA\n"
     ]
    }
   ],
   "source": [
    "print content_rating \n",
    "print content_rating_reason"
   ]
  },
  {
   "cell_type": "code",
   "execution_count": 31,
   "metadata": {
    "collapsed": true
   },
   "outputs": [],
   "source": [
    "# icon url \n",
    "icon_url = 'http:'+str(ssoup.find('img',class_='cover-image').get('src'))\n"
   ]
  },
  {
   "cell_type": "code",
   "execution_count": 32,
   "metadata": {
    "collapsed": false
   },
   "outputs": [
    {
     "data": {
      "text/plain": [
       "'http://lh3.googleusercontent.com/KyRWhVHv6S2GAapCHOt0KFjAKs_gzqndFZwk9smz7QYX3jSAs2KSWfk8hF18KaK8ybA=w300'"
      ]
     },
     "execution_count": 32,
     "metadata": {},
     "output_type": "execute_result"
    }
   ],
   "source": [
    "icon_url"
   ]
  },
  {
   "cell_type": "markdown",
   "metadata": {},
   "source": [
    "## Crawl Games by subcategory "
   ]
  },
  {
   "cell_type": "code",
   "execution_count": 38,
   "metadata": {
    "collapsed": true
   },
   "outputs": [],
   "source": [
    "# action subcategory seed page \n",
    "surl='https://play.google.com/store/apps/category/GAME_ACTION?hl=en'\n",
    "sreq=requests.get(surl)\n",
    "ssoup=BeautifulSoup(sreq.text,'html.parser')"
   ]
  },
  {
   "cell_type": "code",
   "execution_count": 41,
   "metadata": {
    "collapsed": true
   },
   "outputs": [],
   "source": [
    "seemoreurl=[tag['href'] for tag in ssoup.find_all('a',class_='see-more')] "
   ]
  },
  {
   "cell_type": "code",
   "execution_count": 42,
   "metadata": {
    "collapsed": false
   },
   "outputs": [
    {
     "data": {
      "text/plain": [
       "[u'/store/apps/category/GAME_ACTION/collection/promotion_cp_fighting_games',\n",
       " u'/store/apps/category/GAME_ACTION/collection/promotion_cp_shooter_games',\n",
       " u'/store/apps/category/GAME_ACTION/collection/promotion_30000ea_zombie_games',\n",
       " u'/store/apps/category/GAME_ACTION/collection/promotion_cp_ninja_games',\n",
       " u'/store/apps/category/GAME_ACTION/collection/promotion_3001ae5_premium_action_games_cp']"
      ]
     },
     "execution_count": 42,
     "metadata": {},
     "output_type": "execute_result"
    }
   ],
   "source": [
    "seemoreurl"
   ]
  },
  {
   "cell_type": "code",
   "execution_count": 6,
   "metadata": {
    "collapsed": false
   },
   "outputs": [],
   "source": [
    "from selenium.webdriver.common.keys import Keys\n",
    "from selenium import webdriver \n",
    "import time\n",
    "\n",
    "\n",
    "def chrome_driver_login(url):\n",
    "    #this function enable login to Google account \n",
    "    driver = webdriver.Chrome('/Users/gongzeyang/Downloads/chromedriver')\n",
    "    driver.get(url)\n",
    "    loginpage=driver.find_element_by_id('gb_70').get_attribute('href')\n",
    "    driver.get(loginpage)\n",
    "    gid=driver.find_element_by_id('Email')\n",
    "    gid.send_keys('zeyanggong@gmail.com')\n",
    "    nextbutton=driver.find_element_by_id('next')\n",
    "    nextbutton.click()\n",
    "    time.sleep(3)\n",
    "    passwd=driver.find_element_by_id('Passwd')\n",
    "    passwd.send_keys('yinhuodefu')\n",
    "    signin=driver.find_element_by_id(\"signIn\")\n",
    "    signin.click()\n",
    "    time.sleep(3)\n",
    "    return driver.page_source\n",
    "\n",
    "#can not define driver in a function, or the rest of the script cannot continuously use the same page."
   ]
  },
  {
   "cell_type": "code",
   "execution_count": 12,
   "metadata": {
    "collapsed": false
   },
   "outputs": [],
   "source": [
    "# open the Chrome driver funciton \n",
    "url = 'https://play.google.com/store/apps/category/GAME_ACTION'\n",
    "driver = webdriver.Chrome('/Users/gongzeyang/Downloads/chromedriver')\n",
    "driver.get(url)\n",
    "loginpage=driver.find_element_by_id('gb_70').get_attribute('href')\n",
    "driver.get(loginpage)\n",
    "gid=driver.find_element_by_id('Email')\n",
    "gid.send_keys('zeyanggong@gmail.com')\n",
    "nextbutton=driver.find_element_by_id('next')\n",
    "nextbutton.click()\n",
    "time.sleep(3)\n",
    "passwd=driver.find_element_by_id('Passwd')\n",
    "passwd.send_keys('yinhuodefu')\n",
    "signin=driver.find_element_by_id(\"signIn\")\n",
    "signin.click()\n",
    "time.sleep(3)\n",
    "\n",
    "\n",
    "driver.execute_script(\"window.scrollTo(0, document.body.scrollHeight);\")\n",
    "wholepage = driver.page_source\n",
    "soup = BeautifulSoup(wholepage,'html.parser')\n",
    "\n",
    "seemoreurls=[tag['href'] for tag in soup.find_all('a',class_='see-more')]\n",
    "for appurl in seemoreurls:\n",
    "    driver.execute_script(\"window.scrollTo(0, document.body.scrollHeight);\")"
   ]
  },
  {
   "cell_type": "code",
   "execution_count": null,
   "metadata": {
    "collapsed": true
   },
   "outputs": [],
   "source": []
  }
 ],
 "metadata": {
  "anaconda-cloud": {},
  "kernelspec": {
   "display_name": "Python [default]",
   "language": "python",
   "name": "python2"
  },
  "language_info": {
   "codemirror_mode": {
    "name": "ipython",
    "version": 2
   },
   "file_extension": ".py",
   "mimetype": "text/x-python",
   "name": "python",
   "nbconvert_exporter": "python",
   "pygments_lexer": "ipython2",
   "version": "2.7.12"
  }
 },
 "nbformat": 4,
 "nbformat_minor": 1
}
